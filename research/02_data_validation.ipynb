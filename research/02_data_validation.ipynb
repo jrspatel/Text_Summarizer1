{
 "cells": [
  {
   "cell_type": "code",
   "execution_count": 1,
   "metadata": {},
   "outputs": [
    {
     "data": {
      "text/plain": [
       "'d:\\\\Text_Summarizer1'"
      ]
     },
     "execution_count": 1,
     "metadata": {},
     "output_type": "execute_result"
    }
   ],
   "source": [
    "import os\n",
    "os.chdir('../')\n",
    "%pwd"
   ]
  },
  {
   "cell_type": "code",
   "execution_count": 2,
   "metadata": {},
   "outputs": [],
   "source": [
    "from dataclasses import dataclass\n",
    "from pathlib import Path \n",
    "\n",
    "@dataclass(frozen=True) \n",
    "class DataValidationConfig:\n",
    "    ''' return type --- these variable'''  \n",
    "    root_dir : Path \n",
    "    STATUS_FILE : Path \n",
    "    ALL_REQUIRED_FILE : list  \n",
    "    "
   ]
  },
  {
   "cell_type": "code",
   "execution_count": 3,
   "metadata": {},
   "outputs": [],
   "source": [
    "from textSummarizer.constants import * \n",
    "from textSummarizer.utils.common import read_yaml, create_directories \n"
   ]
  },
  {
   "cell_type": "code",
   "execution_count": 13,
   "metadata": {},
   "outputs": [],
   "source": [
    "class ConfigurationManager:\n",
    "    def __init__(\n",
    "            self, \n",
    "            config_filepath = CONFIG_FILE_PATH,\n",
    "            params_filepath = PARAMS_FILE_PATH): \n",
    "        \n",
    "        print(config_filepath)\n",
    "        self.config = read_yaml(config_filepath) \n",
    "        self.params = read_yaml(params_filepath) \n",
    "\n",
    "        create_directories([self.config.artifacts_root])\n",
    "        \n",
    "    def get_data_validation_config(self) -> DataValidationConfig:\n",
    "        config = self.config.data_validation\n",
    "\n",
    "        create_directories([config.root_dir]) \n",
    "\n",
    "        data_validation_config = DataValidationConfig(\n",
    "            root_dir = config.root_dir, \n",
    "            STATUS_FILE = config.STATUS_FILE,\n",
    "            ALL_REQUIRED_FILE = config.ALL_REQUIRED_FILE\n",
    "        )\n",
    "\n",
    "        return data_validation_config\n",
    "    "
   ]
  },
  {
   "cell_type": "code",
   "execution_count": 8,
   "metadata": {},
   "outputs": [],
   "source": [
    "from textSummarizer.logging import logger "
   ]
  },
  {
   "cell_type": "code",
   "execution_count": 17,
   "metadata": {},
   "outputs": [],
   "source": [
    "class DataValidation:\n",
    "    def __init__(self, config:DataValidationConfig): \n",
    "        self.config = config \n",
    "\n",
    "    def validate_all_files_exist(self) -> bool:\n",
    "        try:\n",
    "            validation_status = None \n",
    "            all_files = os.listdir(os.path.join('artifacts','data_ingestion','samsum_dataset'))\n",
    "            \n",
    "            for file in all_files:\n",
    "                if file not in self.config.ALL_REQUIRED_FILE:\n",
    "                    validation_status = False \n",
    "                    with open(self.config.STATUS_FILE,'w') as f:\n",
    "                        f.write(f'validation status : {validation_status}')\n",
    "                else:\n",
    "                    validation_status = True \n",
    "                    with open(self.config.STATUS_FILE,'w') as f:\n",
    "                        f.write(f'validation status : {validation_status}') \n",
    "        \n",
    "        except Exception as e:\n",
    "            raise e\n",
    "\n",
    "        return validation_status\n"
   ]
  },
  {
   "cell_type": "code",
   "execution_count": 18,
   "metadata": {},
   "outputs": [
    {
     "name": "stdout",
     "output_type": "stream",
     "text": [
      "config\\config.yaml\n",
      " in common file\n",
      "{'artifacts_root': 'artifacts', 'data_ingestion': {'root_dir': 'artifacts/data_ingestion', 'source_URL': 'https://github.com/entbappy/Branching-tutorial/raw/master/summarizer-data.zip', 'local_data_file': 'artifacts/data_ingestion/data.zip', 'unzip_dir': 'artifacts/data_ingestion'}, 'data_validation': {'root_dir': 'artifacts/data_validation', 'STATUS_FILE': 'artifacts/data_validation/status.txt', 'ALL_REQUIRED_FILE': ['train', 'test', 'validation']}}\n",
      "[2023-10-04 00:59:48,230: INFO: common: yaml file: config\\config.yaml successfully loaded]\n",
      " in common file\n",
      "{'key': 'value'}\n",
      "[2023-10-04 00:59:48,232: INFO: common: yaml file: params.yaml successfully loaded]\n",
      "[2023-10-04 00:59:48,233: INFO: common: created directory at: artifacts]\n",
      "[2023-10-04 00:59:48,234: INFO: common: created directory at: artifacts/data_validation]\n"
     ]
    }
   ],
   "source": [
    "try:\n",
    "    config = ConfigurationManager()\n",
    "    data_validation_config = config.get_data_validation_config()\n",
    "    data_validation = DataValidation(config=data_validation_config)\n",
    "    data_validation.validate_all_files_exist()\n",
    "    \n",
    "except Exception as e:\n",
    "    raise e"
   ]
  },
  {
   "cell_type": "code",
   "execution_count": null,
   "metadata": {},
   "outputs": [],
   "source": []
  }
 ],
 "metadata": {
  "kernelspec": {
   "display_name": "text_S",
   "language": "python",
   "name": "python3"
  },
  "language_info": {
   "codemirror_mode": {
    "name": "ipython",
    "version": 3
   },
   "file_extension": ".py",
   "mimetype": "text/x-python",
   "name": "python",
   "nbconvert_exporter": "python",
   "pygments_lexer": "ipython3",
   "version": "3.8.17"
  },
  "orig_nbformat": 4
 },
 "nbformat": 4,
 "nbformat_minor": 2
}
